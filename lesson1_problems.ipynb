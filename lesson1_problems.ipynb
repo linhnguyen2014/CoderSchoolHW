{
 "cells": [
  {
   "cell_type": "markdown",
   "metadata": {},
   "source": [
    "# Lesson 1 - Problem Set\n",
    "\n",
    "Please solve the questions in this notebook and submit the completed notebook. The timestamp of submission will be considered the timestamp of completion.\n",
    "\n",
    "1. Create a 3x3x3 array with random values. $_{5\\text{pts}}$\n",
    "\n",
    "1. Create a 4x4 matrix with row values ranging from 0 to 3. $_{5\\text{pts}}$\n",
    "\n",
    "1. Create a random numpy array with 25 elements in sorted order (from least to greatest). $_{5\\text{pts}}$\n",
    "\n",
    "1. Write a function which takes a numpy array `arr` and a scalar `n` and returns the closest value in the array to the provided scalar `n`. $_{10\\text{pts}}$.\n",
    "\n",
    "    **Hint**: Consider the [argmin](https://docs.scipy.org/doc/numpy/reference/generated/numpy.argmin.html) function provided by numpy\n",
    "    \n",
    "1. In the first lesson, we saw the use of the [matplotlib](https://matplotlib.org/) library to generate graphical representations of our data. Using this library, we are going to plot a normal distribution. $_{10\\text{pts}}$.\n",
    "    1. Using the terms mean, variance, and standard deviation, describe a uniform distribution? $_{2\\text{pts}}$.\n",
    "    1. Using the terms mean, variance, and standard deviation, describe a normal distribution? $_{2\\text{pts}}$.\n",
    "    1. Using the [normal](https://docs.scipy.org/doc/numpy-1.14.0/reference/generated/numpy.random.normal.html) function, generate a numpy array of normally distributed numbers. $_{2\\text{pts}}$. (*Hint: Generate the distribution by leveraging your knowledge of mean, variance, and standard deviation.*)\n",
    "    1. What is a histogram? $_{2\\text{pts}}$.\n",
    "    1. Plot a histogram of the normally distributed data that you generated above. $_{2\\text{pts}}$.\n",
    "\n",
    "1. Using a histogram, plot normally sampled data in order to answer the following questions. $_{5\\text{pts}}$.\n",
    "    1. What happens when you change the mean? $_{2.5\\text{pts}}$.\n",
    "    1. What happens when you change the standard deviation? $_{2.5\\text{pts}}$."
   ]
  },
  {
   "cell_type": "code",
   "execution_count": 4,
   "metadata": {},
   "outputs": [
    {
     "data": {
      "text/plain": [
       "array([[[2.37126433e-04, 1.72933975e-01, 6.69568914e-01],\n",
       "        [9.47174283e-01, 2.81921361e-01, 2.83402949e-01],\n",
       "        [9.23704062e-01, 6.94641131e-01, 3.36266247e-01]],\n",
       "\n",
       "       [[9.94976772e-01, 1.18935671e-01, 5.07563960e-02],\n",
       "        [6.60679024e-01, 5.99584821e-01, 7.91409838e-01],\n",
       "        [4.45612994e-01, 6.84724858e-01, 4.11207274e-01]],\n",
       "\n",
       "       [[5.56212741e-01, 6.24526265e-01, 4.35391861e-01],\n",
       "        [8.30864573e-01, 2.99650652e-01, 1.92623871e-01],\n",
       "        [7.32499277e-01, 5.80374312e-01, 4.15637951e-01]]])"
      ]
     },
     "execution_count": 4,
     "metadata": {},
     "output_type": "execute_result"
    }
   ],
   "source": [
    "import numpy as np\n",
    "#1. Create a 3x3x3 array with random values. $_{5\\text{pts}}$\n",
    "np.random.random((3, 3,3))"
   ]
  },
  {
   "cell_type": "code",
   "execution_count": 22,
   "metadata": {},
   "outputs": [
    {
     "name": "stdout",
     "output_type": "stream",
     "text": [
      "[[1.1615376081330329, 1.9321444191069435, 2.144932113676176, 1.8274607870628579], [1.0366972575229743, 0.5220307160013062, 0.26722434743504564, 2.9711440072604507], [1.6950762447592123, 2.8348489361693225, 1.4012114222062098, 0.8746489333327021], [1.988305308972754, 1.3397941272808556, 0.04790001279996048, 2.7380441456941274]]\n"
     ]
    }
   ],
   "source": [
    "#1. Create a 4x4 matrix with row values ranging from 0 to 3. $_{5\\text{pts}}$\n",
    "Matrix = [[np.random.random()*3 for x in range(4)] for y in range(4)] \n",
    "print(Matrix)\n"
   ]
  },
  {
   "cell_type": "code",
   "execution_count": 23,
   "metadata": {},
   "outputs": [
    {
     "name": "stdout",
     "output_type": "stream",
     "text": [
      "[0.16159656 0.17237667 0.19776272 0.20814087 0.21914098 0.22664845\n",
      " 0.25754982 0.30286364 0.36356257 0.37542554 0.39979602 0.4024695\n",
      " 0.40809857 0.41530232 0.56019495 0.57571067 0.72672695 0.72826093\n",
      " 0.73141901 0.7414406  0.74503521 0.78637141 0.90826009 0.98118621\n",
      " 0.99278746]\n"
     ]
    }
   ],
   "source": [
    "#1. Create a random numpy array with 25 elements in sorted order (from least to greatest). $_{5\\text{pts}}$\n",
    "\n",
    "def selection_sort(x):\n",
    "    for i in range(len(x)):\n",
    "        swap = i + np.argmin(x[i:])\n",
    "        (x[i], x[swap]) = (x[swap], x[i])\n",
    "    return x\n",
    "\n",
    "arr1= np.random.random(25)\n",
    "selection_sort(arr1)\n",
    "print(arr1)"
   ]
  },
  {
   "cell_type": "code",
   "execution_count": 92,
   "metadata": {},
   "outputs": [
    {
     "name": "stdout",
     "output_type": "stream",
     "text": [
      "[0 2 8 6 9 4 5 7 1 3]\n"
     ]
    },
    {
     "data": {
      "text/plain": [
       "-2"
      ]
     },
     "execution_count": 92,
     "metadata": {},
     "output_type": "execute_result"
    }
   ],
   "source": [
    "\n",
    "#1. Write a function which takes a numpy array `arr` and a scalar `n` and returns the closest value in the array to the provided scalar `n`. $_{10\\text{pts}}$.\n",
    "\n",
    "def search(arr,n):\n",
    "    alength = len(arr)\n",
    "    arr1 = arr\n",
    "    for i in range(alength):\n",
    "        arr1[i] =(arr[i]-n)\n",
    "    ind =  np.argmin(arr1)\n",
    "    return arr[ind]\n",
    "\n",
    "array = np.arange(10)\n",
    "np.random.shuffle(array)\n",
    "print(array)\n",
    "search(array,2)"
   ]
  },
  {
   "cell_type": "code",
   "execution_count": 96,
   "metadata": {},
   "outputs": [
    {
     "name": "stderr",
     "output_type": "stream",
     "text": [
      "C:\\Users\\linhp\\Anaconda3\\lib\\site-packages\\ipykernel_launcher.py:15: MatplotlibDeprecationWarning: scipy.stats.norm.pdf\n",
      "  from ipykernel import kernelapp as app\n"
     ]
    },
    {
     "data": {
      "image/png": "[encoded data removed]",
      "text/plain": [
       "<Figure size 432x288 with 1 Axes>"
      ]
     },
     "metadata": {},
     "output_type": "display_data"
    }
   ],
   "source": [
    "#6. Using a histogram, plot normally sampled data in order to answer the following questions.  5pts5pts .\n",
    "\n",
    "#What happens when you change the mean?  2.5pts2.5pts .\n",
    "#What happens when you change the standard deviation?  2.5pts2.5pts .\n",
    "\n",
    "import matplotlib.pyplot as plt\n",
    "import numpy as np\n",
    "import matplotlib.mlab as mlab\n",
    "import math\n",
    "\n",
    "mu = 3\n",
    "variance = 3\n",
    "sigma = math.sqrt(variance)\n",
    "x = np.linspace(mu - 5*sigma, mu + 5*sigma, 100)\n",
    "plt.plot(x,mlab.normpdf(x, mu, sigma))\n",
    "plt.show()\n",
    "\n",
    "# When change the mean, shift the curve left or right\n",
    "# When change the standard deviation, change how much the curve spreads out from the mean"
   ]
  },
  {
   "cell_type": "code",
   "execution_count": 111,
   "metadata": {},
   "outputs": [
    {
     "name": "stderr",
     "output_type": "stream",
     "text": [
      "C:\\Users\\linhp\\Anaconda3\\lib\\site-packages\\ipykernel_launcher.py:7: MatplotlibDeprecationWarning: scipy.stats.norm.pdf\n",
      "  import sys\n"
     ]
    },
    {
     "data": {
      "image/png": "[encoded data removed]",
      "text/plain": [
       "<Figure size 432x288 with 1 Axes>"
      ]
     },
     "metadata": {},
     "output_type": "display_data"
    },
    {
     "name": "stdout",
     "output_type": "stream",
     "text": [
      "[None None None None None None None None None None]\n",
      "[0.09431755552054705 -0.904309297152744 -0.46815345198148445\n",
      " 0.15511164607534575 1.4983544553612629 1.3858752624665345\n",
      " 1.9122148608501475 0.2541577972578729 0.47623906555179607\n",
      " 0.7034794887620848]\n"
     ]
    }
   ],
   "source": [
    "#5. n the first lesson, we saw the use of the matplotlib library to generate graphical representations of our data. Using this library, we are going to plot a normal distribution.  10pts10pts .\n",
    "\n",
    "mu = 3\n",
    "variance = 3\n",
    "sigma = math.sqrt(variance)\n",
    "x = np.linspace(mu - 5*sigma, mu + 5*sigma, 100)\n",
    "plt.plot(x,mlab.normpdf(x, mu, sigma))\n",
    "plt.show()\n",
    "#Using the terms mean, variance, and standard deviation, describe a uniform distribution?  2pts2pts .\n",
    "#the uniform distribution is a family of symmetric probability distributions such that for each member of the family, all intervals of the same length on the distribution's support are equally probable\n",
    "# model uniformly distributed in (a,b)\n",
    "# mean = (a+b)/2\n",
    "# variance = (a-b)^2/12;std = sqrt(variance)\n",
    "#Using the terms mean, variance, and standard deviation, describe a normal distribution?  2pts2pts .\n",
    "\n",
    "#Using the normal function, generate a numpy array of normally distributed numbers.  2pts2pts . (Hint: Generate the distribution by leveraging your knowledge of mean, variance, and standard deviation.)\n",
    "array = np.empty(10, dtype=object)\n",
    "print(array)\n",
    "for i in range(10):\n",
    "    means= 0.0\n",
    "    stddevs = 1.0\n",
    "    sample = np.random.normal(means, stddevs)\n",
    "    array[i] = sample\n",
    "print(array)\n",
    "\n",
    "#What is a histogram?  2pts2pts .\n",
    " #histogram is an accurate representation of the distribution of numerical data. It is an estimate of the probability distribution of a continuous variable "
   ]
  },
  {
   "cell_type": "code",
   "execution_count": null,
   "metadata": {},
   "outputs": [],
   "source": []
  },
  {
   "cell_type": "code",
   "execution_count": null,
   "metadata": {},
   "outputs": [],
   "source": []
  },
  {
   "cell_type": "code",
   "execution_count": null,
   "metadata": {},
   "outputs": [],
   "source": []
  }
 ],
 "metadata": {
  "kernelspec": {
   "display_name": "Python 3",
   "language": "python",
   "name": "python3"
  },
  "language_info": {
   "codemirror_mode": {
    "name": "ipython",
    "version": 3
   },
   "file_extension": ".py",
   "mimetype": "text/x-python",
   "name": "python",
   "nbconvert_exporter": "python",
   "pygments_lexer": "ipython3",
   "version": "3.6.5"
  }
 },
 "nbformat": 4,
 "nbformat_minor": 2
}
